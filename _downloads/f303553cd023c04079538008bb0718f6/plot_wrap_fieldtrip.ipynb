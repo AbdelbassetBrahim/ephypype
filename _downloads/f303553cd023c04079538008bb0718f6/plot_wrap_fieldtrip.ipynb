{
  "cells": [
    {
      "cell_type": "code",
      "execution_count": null,
      "metadata": {
        "collapsed": false
      },
      "outputs": [],
      "source": [
        "%matplotlib inline"
      ]
    },
    {
      "cell_type": "markdown",
      "metadata": {},
      "source": [
        "\n\n# Compute average regerence on ECoG data\n\nThis pipeline shows a very simple example on how to create a pipeline wrapping\na desired function of a Matlab toolbox (FieldTrip).\n\nThe **input** data should be a **.mat** file containing a data struct accepeted\nby FieldTrip\n\n"
      ]
    },
    {
      "cell_type": "code",
      "execution_count": null,
      "metadata": {
        "collapsed": false
      },
      "outputs": [],
      "source": [
        "# Authors: Annalisa Pascarella <a.pascarella@iac.cnr.it>\n# License: BSD (3-clause)\n\n# sphinx_gallery_thumbnail_number = 1\n\nimport os.path as op\nimport nipype.pipeline.engine as pe\n\nimport ephypype\nfrom ephypype.nodes import create_iterator, create_datagrabber\nfrom ephypype.nodes.FT_tools import Reference\nfrom ephypype.datasets import fetch_ieeg_dataset"
      ]
    },
    {
      "cell_type": "markdown",
      "metadata": {},
      "source": [
        "Let us fetch the data first. It is around 675 MB download.\n\n"
      ]
    },
    {
      "cell_type": "code",
      "execution_count": null,
      "metadata": {
        "collapsed": false
      },
      "outputs": [],
      "source": [
        "data_type = 'fif'\nbase_path = op.join(op.dirname(ephypype.__file__), '..', 'examples')\ndata_path = fetch_ieeg_dataset(base_path)\n\nft_path = '/usr/local/MATLAB/R2018a/toolbox/MEEG/fieldtrip-20200327/'\nupdatesens = 'no'\nrefmethod = 'avg'\nchannels_name = '{\\'LPG*\\', \\'LTG*\\'}'\n\nworkflow_name = 'workflow'\n\nmain_workflow = pe.Workflow(name=workflow_name)\nmain_workflow.base_dir = data_path\n\nsubject_ids = ['SubjectUCI29']\ninfosource = create_iterator(['subject_id'], [subject_ids])\n\ntemplate_path = '%s*.mat'\ntemplate_args = [['subject_id']]\ndatasource = create_datagrabber(data_path, template_path, template_args,\n                                infields=['subject_id'])\n\nmain_workflow.connect(infosource, 'subject_id', datasource, 'subject_id')\n\nreference_node = pe.Node(interface=Reference(), name='Reference')\nreference_node.inputs.channels = channels_name\nreference_node.inputs.ft_path = ft_path\nreference_node.inputs.updatesens = updatesens\nreference_node.inputs.refmethod = refmethod\nreference_node.inputs.script = ''\n\nmain_workflow.connect(datasource, 'raw_file', reference_node, 'data_file')\nprint('*****'.format(reference_node.outputs))\n\nmain_workflow.write_graph(graph2use='colored')  # colored\nmain_workflow.config['execution'] = {'remove_unnecessary_outputs': 'false'}\n\n# Run workflow locally on 1 CPU\nmain_workflow.run(plugin='MultiProc', plugin_args={'n_procs': 1})"
      ]
    }
  ],
  "metadata": {
    "kernelspec": {
      "display_name": "Python 3",
      "language": "python",
      "name": "python3"
    },
    "language_info": {
      "codemirror_mode": {
        "name": "ipython",
        "version": 3
      },
      "file_extension": ".py",
      "mimetype": "text/x-python",
      "name": "python",
      "nbconvert_exporter": "python",
      "pygments_lexer": "ipython3",
      "version": "3.6.6"
    }
  },
  "nbformat": 4,
  "nbformat_minor": 0
}