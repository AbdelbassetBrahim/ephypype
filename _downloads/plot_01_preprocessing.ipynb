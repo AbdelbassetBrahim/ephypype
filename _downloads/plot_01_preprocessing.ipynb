{
  "nbformat_minor": 0, 
  "nbformat": 4, 
  "cells": [
    {
      "execution_count": null, 
      "cell_type": "code", 
      "source": [
        "%matplotlib inline"
      ], 
      "outputs": [], 
      "metadata": {
        "collapsed": false
      }
    }, 
    {
      "source": [
        "\n# Using ephypype to preprocess your data\n\nThe preprocessing pipeline runs the ICA algorithm for an\nautomatic removal of eyes and heart related artefacts.\nA report is automatically generated and can be used to correct\nand/or fine-tune the correction in each subject\n\n"
      ], 
      "cell_type": "markdown", 
      "metadata": {}
    }, 
    {
      "execution_count": null, 
      "cell_type": "code", 
      "source": [
        "import nipype.pipeline.engine as pe\nimport nipype.interfaces.io as nio\n\nfrom nipype.interfaces.utility import IdentityInterface\n\nfrom ephypype.pipelines.preproc_meeg import create_pipeline_preproc_meeg\n\nfrom params.ica import main_path, data_path, subject_ids, sessions\nfrom params.ica import preproc_pipeline_name\nfrom params.ica import data_type, down_sfreq, l_freq, h_freq\nfrom params.ica import variance, ECG_ch_name, EoG_ch_name\n\n\ndef create_infosource():\n    \"\"\"Create node which passes input filenames to DataGrabber\"\"\"\n\n    infosource = pe.Node(interface=IdentityInterface(fields=['subject_id',\n                                                             'sess_index']),\n                         name=\"infosource\")\n\n    infosource.iterables = [('subject_id', subject_ids),\n                            ('sess_index', sessions)]\n\n    return infosource\n\n\n# it could be ds or fif file. Set data_type in the params_ica.py file\ndef create_datasource():\n    \"\"\"\"Create node to grab data\"\"\"\n\n    datasource = pe.Node(interface=nio.DataGrabber(infields=['subject_id',\n                                                             'sess_index'],\n                                                   outfields=['raw_file']),\n                         name='datasource')\n\n    datasource.inputs.base_directory = data_path\n    datasource.inputs.template = '*%s/%s/meg/%s*rest*.ds'\n\n    datasource.inputs.template_args = dict(raw_file=[['subject_id',\n                                                      'sess_index',\n                                                      'subject_id']])\n\n    datasource.inputs.sort_filelist = True\n\n    return datasource\n\n\ndef create_workflow_preproc():\n    \"\"\"Create nodes and connect them into a workflow\"\"\"\n\n    main_workflow = pe.Workflow(name=preproc_pipeline_name)\n    main_workflow.base_dir = main_path\n\n    # Info source\n    infosource = create_infosource()\n\n    # Data source\n    datasource = create_datasource()\n\n    main_workflow.connect(infosource, 'subject_id', datasource, 'subject_id')\n    main_workflow.connect(infosource, 'sess_index', datasource, 'sess_index')\n\n    preproc_workflow = create_pipeline_preproc_meeg(main_path,\n                                                    l_freq=l_freq,\n                                                    h_freq=h_freq,\n                                                    down_sfreq=down_sfreq,\n                                                    variance=variance,\n                                                    ECG_ch_name=ECG_ch_name,\n                                                    EoG_ch_name=EoG_ch_name,\n                                                    data_type=data_type)\n\n    main_workflow.connect(infosource, 'subject_id',\n                          preproc_workflow, 'inputnode.subject_id')\n\n    main_workflow.connect(datasource, 'raw_file',\n                          preproc_workflow, 'inputnode.raw_file')\n\n    return main_workflow\n\n\nif __name__ == '__main__':\n\n    # run pipeline:\n    main_workflow = create_workflow_preproc()\n\n    main_workflow.write_graph(graph2use='colored')  # colored\n    main_workflow.config['execution'] = {'remove_unnecessary_outputs': 'false'}\n\n    # Run workflow locally on 3 CPUs\n    main_workflow.run(plugin='MultiProc', plugin_args={'n_procs': 3})"
      ], 
      "outputs": [], 
      "metadata": {
        "collapsed": false
      }
    }
  ], 
  "metadata": {
    "kernelspec": {
      "display_name": "Python 2", 
      "name": "python2", 
      "language": "python"
    }, 
    "language_info": {
      "mimetype": "text/x-python", 
      "nbconvert_exporter": "python", 
      "name": "python", 
      "file_extension": ".py", 
      "version": "2.7.11", 
      "pygments_lexer": "ipython2", 
      "codemirror_mode": {
        "version": 2, 
        "name": "ipython"
      }
    }
  }
}