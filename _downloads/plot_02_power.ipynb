{
  "nbformat_minor": 0, 
  "nbformat": 4, 
  "cells": [
    {
      "execution_count": null, 
      "cell_type": "code", 
      "source": [
        "%matplotlib inline"
      ], 
      "outputs": [], 
      "metadata": {
        "collapsed": false
      }
    }, 
    {
      "source": [
        "\n# Power pipeline\n\nThe power pipeline computes the power spectral density (PSD)\non epochs or raw data on sensor space or source space.\nThe mean PSD for each selected frequency band is also\ncomputed and saved in a numpy file.\n\n"
      ], 
      "cell_type": "markdown", 
      "metadata": {}
    }, 
    {
      "execution_count": null, 
      "cell_type": "code", 
      "source": [
        "import nipype.pipeline.engine as pe\nfrom nipype.interfaces.utility import IdentityInterface\nimport nipype.interfaces.io as nio\n\nfrom ephypype.pipelines.power import create_pipeline_power\n\nfrom params.power import main_path, data_path # noqa: E402\nfrom params.power import subject_ids, sessions # noqa: E402\nfrom params.power import power_analysis_name # noqa: E402\nfrom params.power import fmin, fmax, power_method, is_epoched, freq_bands # noqa: E402\n\n\ndef create_infosource():\n    \"\"\"Create node which passes input filenames to DataGrabber\"\"\"\n\n    infosource = pe.Node(interface=IdentityInterface(fields=['subject_id',\n                                                             'sess_index']),\n                         name=\"infosource\")\n\n    infosource.iterables = [('subject_id', subject_ids),\n                            ('sess_index', sessions)]\n\n    return infosource\n\n\ndef create_datasource():\n\n    datasource = pe.Node(interface=nio.DataGrabber(infields=['subject_id',\n                                                             'sess_index'],\n                                                   outfields=['raw_file']),\n                         name='datasource')\n\n    datasource.inputs.base_directory = data_path\n    datasource.inputs.template = '*%s/%s/meg/%s*rest*ica.fif'\n    datasource.inputs.template_args = dict(raw_file=[['subject_id',\n                                                      'sess_index',\n                                                      'subject_id']])\n    datasource.inputs.sort_filelist = True\n\n    return datasource\n\n\ndef create_main_workflow_power():\n\n    main_workflow = pe.Workflow(name=power_analysis_name)\n    main_workflow.base_dir = main_path\n\n    # info source\n    infosource = create_infosource()\n\n    # data source\n    datasource = create_datasource()\n\n    main_workflow.connect(infosource, 'subject_id', datasource, 'subject_id')\n    main_workflow.connect(infosource, 'sess_index', datasource, 'sess_index')\n\n    power_workflow = create_pipeline_power(main_path, freq_bands,\n                                           fmin=fmin, fmax=fmax,\n                                           method=power_method,\n                                           is_epoched=is_epoched)\n\n    main_workflow.connect(datasource, 'raw_file',\n                          power_workflow, 'inputnode.fif_file')\n\n    return main_workflow\n\n\nif __name__ == '__main__':\n\n    # run pipeline:\n    main_workflow = create_main_workflow_power()\n\n    main_workflow.write_graph(graph2use='colored')  # colored\n    main_workflow.config['execution'] = {'remove_unnecessary_outputs': 'false'}\n\n    main_workflow.run(plugin='MultiProc', plugin_args={'n_procs': 3})"
      ], 
      "outputs": [], 
      "metadata": {
        "collapsed": false
      }
    }
  ], 
  "metadata": {
    "kernelspec": {
      "display_name": "Python 2", 
      "name": "python2", 
      "language": "python"
    }, 
    "language_info": {
      "mimetype": "text/x-python", 
      "nbconvert_exporter": "python", 
      "name": "python", 
      "file_extension": ".py", 
      "version": "2.7.11", 
      "pygments_lexer": "ipython2", 
      "codemirror_mode": {
        "version": 2, 
        "name": "ipython"
      }
    }
  }
}